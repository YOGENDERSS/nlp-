{
  "nbformat": 4,
  "nbformat_minor": 0,
  "metadata": {
    "colab": {
      "name": "19bce1472_da2.ipynb",
      "provenance": []
    },
    "kernelspec": {
      "name": "python3",
      "display_name": "Python 3"
    },
    "language_info": {
      "name": "python"
    }
  },
  "cells": [
    {
      "cell_type": "markdown",
      "source": [
        "\n",
        "\n",
        "# **Creating the corpus file with nltk package**\n",
        "\n"
      ],
      "metadata": {
        "id": "8cRBXQE18mCx"
      }
    },
    {
      "cell_type": "code",
      "source": [
        "from nltk.corpus.reader.plaintext import PlaintextCorpusReader\n",
        "\n",
        "\n",
        "filecontent1 = \"Indian soldiers fought alongside the Allies.whose mission was internal security and defence against a possible Soviet threat through Afghanistan war broke out, made up what was called the Free India Legion\"\n",
        "filecontent2 = \"Indian armed forces ended the rule of the Nizam of Hyderabad and led to the incorporation of the princely state of Hyderabad in Southern India, into the Indian Union\"\n",
        "\n",
        "corpusdir = 'nltk_data/'\n",
        "with open(corpusdir + 'text1.txt', 'w') as text_file:\n",
        "    text_file.write(filecontent1)\n",
        "with open(corpusdir + 'text2.txt', 'w') as text_file:\n",
        "    text_file.write(filecontent2)\n",
        "\n",
        "text_corpus = PlaintextCorpusReader(corpusdir, [\"text.txt\", \"text2.txt\"])\n",
        "\n",
        "no_of_words_corpus1 = len(text_corpus.words(\"text1.txt\"))\n",
        "print(no_of_words_corpus1)\n",
        "no_of_unique_words_corpus1 = len(set(text_corpus.words(\"text1.txt\")))\n",
        "\n",
        "no_of_words_corpus2 = len(text_corpus.words(\"text2.txt\"))\n",
        "no_of_unique_words_corpus2 = len(set(text_corpus.words(\"text2.txt\")))"
      ],
      "metadata": {
        "colab": {
          "base_uri": "https://localhost:8080/"
        },
        "id": "-mf3QiC88kDR",
        "outputId": "4dc71807-41d1-44a2-84b3-49c2b7d5c9a1"
      },
      "execution_count": 28,
      "outputs": [
        {
          "output_type": "stream",
          "name": "stdout",
          "text": [
            "34\n"
          ]
        }
      ]
    },
    {
      "cell_type": "markdown",
      "source": [
        "# **Importing the files of corpus**"
      ],
      "metadata": {
        "id": "ItQG6dZj8WGX"
      }
    },
    {
      "cell_type": "code",
      "source": [
        "# Natural Language Toolkit: Word List Corpus Reader\n",
        "from nltk.corpus.reader import WordListCorpusReader\n",
        "#importing the file from the user\n",
        "from google.colab import files\n",
        "#uploading the files\n",
        "uploaded = files.upload()\n",
        "x = WordListCorpusReader(\".\", uploaded)\n",
        "#checking the corpus\n",
        "x.words()\n",
        "  \n"
      ],
      "metadata": {
        "colab": {
          "resources": {
            "http://localhost:8080/nbextensions/google.colab/files.js": {
              "data": "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",
              "ok": true,
              "headers": [
                [
                  "content-type",
                  "application/javascript"
                ]
              ],
              "status": 200,
              "status_text": ""
            }
          },
          "base_uri": "https://localhost:8080/",
          "height": 213
        },
        "id": "zdydFqORQplk",
        "outputId": "111a8c75-29aa-4f54-8f31-4b578412b036"
      },
      "execution_count": 14,
      "outputs": [
        {
          "output_type": "display_data",
          "data": {
            "text/plain": [
              "<IPython.core.display.HTML object>"
            ],
            "text/html": [
              "\n",
              "     <input type=\"file\" id=\"files-f1619c74-9a3c-4857-9f7f-3f88407b1bd6\" name=\"files[]\" multiple disabled\n",
              "        style=\"border:none\" />\n",
              "     <output id=\"result-f1619c74-9a3c-4857-9f7f-3f88407b1bd6\">\n",
              "      Upload widget is only available when the cell has been executed in the\n",
              "      current browser session. Please rerun this cell to enable.\n",
              "      </output>\n",
              "      <script src=\"/nbextensions/google.colab/files.js\"></script> "
            ]
          },
          "metadata": {}
        },
        {
          "output_type": "stream",
          "name": "stdout",
          "text": [
            "Saving text1.txt to text1 (1).txt\n"
          ]
        },
        {
          "output_type": "execute_result",
          "data": {
            "text/plain": [
              "['Indian soldiers fought alongside the Allies.whose mission was internal security and defence against a possible Soviet threat through Afghanistan war broke out, made up what was called the Free India Legion.',\n",
              " 'Indian armed forces ended the rule of the Nizam of Hyderabad and led to the incorporation of the princely state of Hyderabad in Southern India, into the Indian Union.',\n",
              " 'Combined operation against Naxalites. To control the landscape of Punjab at night.',\n",
              " 'The Indian Army is the land-based branch and the largest component of the Indian Armed Forces. Supreme Commander of the Indian Army, and its professional head is the Chief of Army Staff (COAS),  a five-star rank, which is a ceremonial position of great honour.',\n",
              " 'The primary mission national security and national unity,  defend the nation from external aggression and internal threats maintain peace and security within its borders. It conducts humanitarian rescue operations during natural calamities and other disturbances, such as Operation Surya Hope, and can also be requisitioned.']"
            ]
          },
          "metadata": {},
          "execution_count": 14
        }
      ]
    },
    {
      "cell_type": "markdown",
      "source": [
        "## **Word Segmentation**"
      ],
      "metadata": {
        "id": "dd5v26k0JlSC"
      }
    },
    {
      "cell_type": "code",
      "source": [
        "import nltk\n",
        "\n",
        "#this is done as to change the sentence of these order thequickbrownfoxjumpsoverthelazydog to ( the quick brown fox jumps over the lazy dog).\n",
        "\n",
        "nltk.download('punkt')\n",
        "#Punkt Sentence Tokenizer This tokenizer divides a text into a list of sentences by using an unsupervised algorithm to build a model for abbreviation words, collocations, \n",
        "# and words that start sentences.  It must be trained on a large collection of plaintext in the target language before it can be used.\n",
        "\n",
        "from nltk.tokenize import word_tokenize\n",
        "\n",
        "#text = \"indian army is part of indian armed forces.\" after word segmentation this would be like :- indian, army, is, part, of, of, indian, armed, forces.\n",
        "\n",
        "print(word_tokenize(x.raw()))"
      ],
      "metadata": {
        "colab": {
          "base_uri": "https://localhost:8080/"
        },
        "id": "jtFVSa0L0JdV",
        "outputId": "cf535f14-f462-41be-f7f7-1131b28102fc"
      },
      "execution_count": 22,
      "outputs": [
        {
          "output_type": "stream",
          "name": "stdout",
          "text": [
            "['Indian', 'soldiers', 'fought', 'alongside', 'the', 'Allies.whose', 'mission', 'was', 'internal', 'security', 'and', 'defence', 'against', 'a', 'possible', 'Soviet', 'threat', 'through', 'Afghanistan', 'war', 'broke', 'out', ',', 'made', 'up', 'what', 'was', 'called', 'the', 'Free', 'India', 'Legion', '.', 'Indian', 'armed', 'forces', 'ended', 'the', 'rule', 'of', 'the', 'Nizam', 'of', 'Hyderabad', 'and', 'led', 'to', 'the', 'incorporation', 'of', 'the', 'princely', 'state', 'of', 'Hyderabad', 'in', 'Southern', 'India', ',', 'into', 'the', 'Indian', 'Union', '.', 'Combined', 'operation', 'against', 'Naxalites', '.', 'To', 'control', 'the', 'landscape', 'of', 'Punjab', 'at', 'night', '.', 'The', 'Indian', 'Army', 'is', 'the', 'land-based', 'branch', 'and', 'the', 'largest', 'component', 'of', 'the', 'Indian', 'Armed', 'Forces', '.', 'Supreme', 'Commander', 'of', 'the', 'Indian', 'Army', ',', 'and', 'its', 'professional', 'head', 'is', 'the', 'Chief', 'of', 'Army', 'Staff', '(', 'COAS', ')', ',', 'a', 'five-star', 'rank', ',', 'which', 'is', 'a', 'ceremonial', 'position', 'of', 'great', 'honour', '.', 'The', 'primary', 'mission', 'national', 'security', 'and', 'national', 'unity', ',', 'defend', 'the', 'nation', 'from', 'external', 'aggression', 'and', 'internal', 'threats', 'maintain', 'peace', 'and', 'security', 'within', 'its', 'borders', '.', 'It', 'conducts', 'humanitarian', 'rescue', 'operations', 'during', 'natural', 'calamities', 'and', 'other', 'disturbances', ',', 'such', 'as', 'Operation', 'Surya', 'Hope', ',', 'and', 'can', 'also', 'be', 'requisitioned', '.']\n"
          ]
        },
        {
          "output_type": "stream",
          "name": "stderr",
          "text": [
            "[nltk_data] Downloading package punkt to /root/nltk_data...\n",
            "[nltk_data]   Package punkt is already up-to-date!\n"
          ]
        }
      ]
    },
    {
      "cell_type": "markdown",
      "source": [
        "# **Sentence Segmentation**"
      ],
      "metadata": {
        "id": "fKdRVmPbz8j_"
      }
    },
    {
      "cell_type": "code",
      "source": [
        "# tokenize the sentence from paragraph\n",
        "sentences = nltk.sent_tokenize(x.raw())  \n",
        "\n",
        "#whole paragraph break into sentence.\n",
        "\n",
        "for sentence in sentences:\n",
        "  #checking the segmentation by printing\n",
        "\tprint(sentence)\n",
        "\tprint()"
      ],
      "metadata": {
        "id": "sVw8MNYsR39Z",
        "colab": {
          "base_uri": "https://localhost:8080/"
        },
        "outputId": "f46ab967-4c3e-4bae-f3f3-4b94a9377a1d"
      },
      "execution_count": 15,
      "outputs": [
        {
          "output_type": "stream",
          "name": "stdout",
          "text": [
            "Indian soldiers fought alongside the Allies.whose mission was internal security and defence against a possible Soviet threat through Afghanistan war broke out, made up what was called the Free India Legion.\n",
            "\n",
            "Indian armed forces ended the rule of the Nizam of Hyderabad and led to the incorporation of the princely state of Hyderabad in Southern India, into the Indian Union.\n",
            "\n",
            "Combined operation against Naxalites.\n",
            "\n",
            "To control the landscape of Punjab at night.\n",
            "\n",
            "The Indian Army is the land-based branch and the largest component of the Indian Armed Forces.\n",
            "\n",
            "Supreme Commander of the Indian Army, and its professional head is the Chief of Army Staff (COAS),  a five-star rank, which is a ceremonial position of great honour.\n",
            "\n",
            "The primary mission national security and national unity,  defend the nation from external aggression and internal threats maintain peace and security within its borders.\n",
            "\n",
            "It conducts humanitarian rescue operations during natural calamities and other disturbances, such as Operation Surya Hope, and can also be requisitioned.\n",
            "\n"
          ]
        }
      ]
    },
    {
      "cell_type": "markdown",
      "source": [
        "# **Convert to lower case**"
      ],
      "metadata": {
        "id": "fs0OoPm00qiR"
      }
    },
    {
      "cell_type": "code",
      "source": [
        "# removing the text input which contaings text as The,NAMe OF ThIs Is NOt SPEciFid.\n",
        "#taking the input file data.\n",
        "text=x.raw()\n",
        "#converting them into lower case adn printing them\n",
        "print(text.lower())"
      ],
      "metadata": {
        "colab": {
          "base_uri": "https://localhost:8080/"
        },
        "id": "FUPdkSRGJqzg",
        "outputId": "f004d1cb-56d1-4e1a-9c8d-0bad13eb0660"
      },
      "execution_count": 23,
      "outputs": [
        {
          "output_type": "stream",
          "name": "stdout",
          "text": [
            "indian soldiers fought alongside the allies.whose mission was internal security and defence against a possible soviet threat through afghanistan war broke out, made up what was called the free india legion.\r\n",
            "indian armed forces ended the rule of the nizam of hyderabad and led to the incorporation of the princely state of hyderabad in southern india, into the indian union.\r\n",
            "combined operation against naxalites. to control the landscape of punjab at night.\r\n",
            "the indian army is the land-based branch and the largest component of the indian armed forces. supreme commander of the indian army, and its professional head is the chief of army staff (coas),  a five-star rank, which is a ceremonial position of great honour.\r\n",
            "the primary mission national security and national unity,  defend the nation from external aggression and internal threats maintain peace and security within its borders. it conducts humanitarian rescue operations during natural calamities and other disturbances, such as operation surya hope, and can also be requisitioned.\r\n",
            "\n"
          ]
        }
      ]
    },
    {
      "cell_type": "markdown",
      "source": [
        "# **Stop word removal**"
      ],
      "metadata": {
        "id": "UfMDkLeA1AYR"
      }
    },
    {
      "cell_type": "code",
      "source": [
        "#importing the library stopword\n",
        "from nltk.corpus import stopwords\n",
        "#importing the word tokenize library \n",
        "from nltk.tokenize import word_tokenize\n",
        "\n",
        "#example:- this is sample example of how this will filter stop word\"\"\"\n",
        "# taking the raw data\n",
        "example_sent=x.raw();\n",
        "#setting the stop words\n",
        "stop_words = set(stopwords.words('english'))\n",
        "#taking the tokken words\n",
        "word_tokens = word_tokenize(example_sent)\n",
        "#filtering the stop words\n",
        "filtered_sentence = [w for w in word_tokens if not w.lower() in stop_words]\n",
        "\n",
        "filtered_sentence = []\n",
        "\n",
        "for w in word_tokens:\n",
        "\tif w not in stop_words:\n",
        "\t\tfiltered_sentence.append(w)\n",
        "\n",
        "print(word_tokens)\n",
        "print(filtered_sentence)"
      ],
      "metadata": {
        "colab": {
          "base_uri": "https://localhost:8080/"
        },
        "id": "nIcTKiPK1GSv",
        "outputId": "f7367a98-d424-4492-eec3-7c9168911abf"
      },
      "execution_count": 24,
      "outputs": [
        {
          "output_type": "stream",
          "name": "stdout",
          "text": [
            "['Indian', 'soldiers', 'fought', 'alongside', 'the', 'Allies.whose', 'mission', 'was', 'internal', 'security', 'and', 'defence', 'against', 'a', 'possible', 'Soviet', 'threat', 'through', 'Afghanistan', 'war', 'broke', 'out', ',', 'made', 'up', 'what', 'was', 'called', 'the', 'Free', 'India', 'Legion', '.', 'Indian', 'armed', 'forces', 'ended', 'the', 'rule', 'of', 'the', 'Nizam', 'of', 'Hyderabad', 'and', 'led', 'to', 'the', 'incorporation', 'of', 'the', 'princely', 'state', 'of', 'Hyderabad', 'in', 'Southern', 'India', ',', 'into', 'the', 'Indian', 'Union', '.', 'Combined', 'operation', 'against', 'Naxalites', '.', 'To', 'control', 'the', 'landscape', 'of', 'Punjab', 'at', 'night', '.', 'The', 'Indian', 'Army', 'is', 'the', 'land-based', 'branch', 'and', 'the', 'largest', 'component', 'of', 'the', 'Indian', 'Armed', 'Forces', '.', 'Supreme', 'Commander', 'of', 'the', 'Indian', 'Army', ',', 'and', 'its', 'professional', 'head', 'is', 'the', 'Chief', 'of', 'Army', 'Staff', '(', 'COAS', ')', ',', 'a', 'five-star', 'rank', ',', 'which', 'is', 'a', 'ceremonial', 'position', 'of', 'great', 'honour', '.', 'The', 'primary', 'mission', 'national', 'security', 'and', 'national', 'unity', ',', 'defend', 'the', 'nation', 'from', 'external', 'aggression', 'and', 'internal', 'threats', 'maintain', 'peace', 'and', 'security', 'within', 'its', 'borders', '.', 'It', 'conducts', 'humanitarian', 'rescue', 'operations', 'during', 'natural', 'calamities', 'and', 'other', 'disturbances', ',', 'such', 'as', 'Operation', 'Surya', 'Hope', ',', 'and', 'can', 'also', 'be', 'requisitioned', '.']\n",
            "['Indian', 'soldiers', 'fought', 'alongside', 'Allies.whose', 'mission', 'internal', 'security', 'defence', 'possible', 'Soviet', 'threat', 'Afghanistan', 'war', 'broke', ',', 'made', 'called', 'Free', 'India', 'Legion', '.', 'Indian', 'armed', 'forces', 'ended', 'rule', 'Nizam', 'Hyderabad', 'led', 'incorporation', 'princely', 'state', 'Hyderabad', 'Southern', 'India', ',', 'Indian', 'Union', '.', 'Combined', 'operation', 'Naxalites', '.', 'To', 'control', 'landscape', 'Punjab', 'night', '.', 'The', 'Indian', 'Army', 'land-based', 'branch', 'largest', 'component', 'Indian', 'Armed', 'Forces', '.', 'Supreme', 'Commander', 'Indian', 'Army', ',', 'professional', 'head', 'Chief', 'Army', 'Staff', '(', 'COAS', ')', ',', 'five-star', 'rank', ',', 'ceremonial', 'position', 'great', 'honour', '.', 'The', 'primary', 'mission', 'national', 'security', 'national', 'unity', ',', 'defend', 'nation', 'external', 'aggression', 'internal', 'threats', 'maintain', 'peace', 'security', 'within', 'borders', '.', 'It', 'conducts', 'humanitarian', 'rescue', 'operations', 'natural', 'calamities', 'disturbances', ',', 'Operation', 'Surya', 'Hope', ',', 'also', 'requisitioned', '.']\n"
          ]
        }
      ]
    },
    {
      "cell_type": "markdown",
      "source": [
        "## **Stemming**"
      ],
      "metadata": {
        "id": "7fXDavQkKR8g"
      }
    },
    {
      "cell_type": "code",
      "source": [
        "# import porterstremmer in order to peform stemming\n",
        "from nltk.stem import PorterStemmer\n",
        "\n",
        "#importing the word tokenize library \n",
        "from nltk.tokenize import word_tokenize\n",
        "\n",
        "ps = PorterStemmer()\n",
        "\n",
        "# taking few sample words for stemming\n",
        "words = [\"india\", \"indian\", \"indians\", \"indialite\", \"indianism\"]\n",
        "# performing the stemming\n",
        "k=word_tokenize(x.raw())\n",
        "for w in k:\n",
        "\tprint(w, \" : \", ps.stem(w))\n"
      ],
      "metadata": {
        "colab": {
          "base_uri": "https://localhost:8080/"
        },
        "id": "28NrHkmeKWHY",
        "outputId": "9329b764-132d-42bc-9348-f64b3a295a01"
      },
      "execution_count": 25,
      "outputs": [
        {
          "output_type": "stream",
          "name": "stdout",
          "text": [
            "Indian  :  indian\n",
            "soldiers  :  soldier\n",
            "fought  :  fought\n",
            "alongside  :  alongsid\n",
            "the  :  the\n",
            "Allies.whose  :  allies.whos\n",
            "mission  :  mission\n",
            "was  :  wa\n",
            "internal  :  intern\n",
            "security  :  secur\n",
            "and  :  and\n",
            "defence  :  defenc\n",
            "against  :  against\n",
            "a  :  a\n",
            "possible  :  possibl\n",
            "Soviet  :  soviet\n",
            "threat  :  threat\n",
            "through  :  through\n",
            "Afghanistan  :  afghanistan\n",
            "war  :  war\n",
            "broke  :  broke\n",
            "out  :  out\n",
            ",  :  ,\n",
            "made  :  made\n",
            "up  :  up\n",
            "what  :  what\n",
            "was  :  wa\n",
            "called  :  call\n",
            "the  :  the\n",
            "Free  :  free\n",
            "India  :  india\n",
            "Legion  :  legion\n",
            ".  :  .\n",
            "Indian  :  indian\n",
            "armed  :  arm\n",
            "forces  :  forc\n",
            "ended  :  end\n",
            "the  :  the\n",
            "rule  :  rule\n",
            "of  :  of\n",
            "the  :  the\n",
            "Nizam  :  nizam\n",
            "of  :  of\n",
            "Hyderabad  :  hyderabad\n",
            "and  :  and\n",
            "led  :  led\n",
            "to  :  to\n",
            "the  :  the\n",
            "incorporation  :  incorpor\n",
            "of  :  of\n",
            "the  :  the\n",
            "princely  :  princ\n",
            "state  :  state\n",
            "of  :  of\n",
            "Hyderabad  :  hyderabad\n",
            "in  :  in\n",
            "Southern  :  southern\n",
            "India  :  india\n",
            ",  :  ,\n",
            "into  :  into\n",
            "the  :  the\n",
            "Indian  :  indian\n",
            "Union  :  union\n",
            ".  :  .\n",
            "Combined  :  combin\n",
            "operation  :  oper\n",
            "against  :  against\n",
            "Naxalites  :  naxalit\n",
            ".  :  .\n",
            "To  :  to\n",
            "control  :  control\n",
            "the  :  the\n",
            "landscape  :  landscap\n",
            "of  :  of\n",
            "Punjab  :  punjab\n",
            "at  :  at\n",
            "night  :  night\n",
            ".  :  .\n",
            "The  :  the\n",
            "Indian  :  indian\n",
            "Army  :  armi\n",
            "is  :  is\n",
            "the  :  the\n",
            "land-based  :  land-bas\n",
            "branch  :  branch\n",
            "and  :  and\n",
            "the  :  the\n",
            "largest  :  largest\n",
            "component  :  compon\n",
            "of  :  of\n",
            "the  :  the\n",
            "Indian  :  indian\n",
            "Armed  :  arm\n",
            "Forces  :  forc\n",
            ".  :  .\n",
            "Supreme  :  suprem\n",
            "Commander  :  command\n",
            "of  :  of\n",
            "the  :  the\n",
            "Indian  :  indian\n",
            "Army  :  armi\n",
            ",  :  ,\n",
            "and  :  and\n",
            "its  :  it\n",
            "professional  :  profession\n",
            "head  :  head\n",
            "is  :  is\n",
            "the  :  the\n",
            "Chief  :  chief\n",
            "of  :  of\n",
            "Army  :  armi\n",
            "Staff  :  staff\n",
            "(  :  (\n",
            "COAS  :  coa\n",
            ")  :  )\n",
            ",  :  ,\n",
            "a  :  a\n",
            "five-star  :  five-star\n",
            "rank  :  rank\n",
            ",  :  ,\n",
            "which  :  which\n",
            "is  :  is\n",
            "a  :  a\n",
            "ceremonial  :  ceremoni\n",
            "position  :  posit\n",
            "of  :  of\n",
            "great  :  great\n",
            "honour  :  honour\n",
            ".  :  .\n",
            "The  :  the\n",
            "primary  :  primari\n",
            "mission  :  mission\n",
            "national  :  nation\n",
            "security  :  secur\n",
            "and  :  and\n",
            "national  :  nation\n",
            "unity  :  uniti\n",
            ",  :  ,\n",
            "defend  :  defend\n",
            "the  :  the\n",
            "nation  :  nation\n",
            "from  :  from\n",
            "external  :  extern\n",
            "aggression  :  aggress\n",
            "and  :  and\n",
            "internal  :  intern\n",
            "threats  :  threat\n",
            "maintain  :  maintain\n",
            "peace  :  peac\n",
            "and  :  and\n",
            "security  :  secur\n",
            "within  :  within\n",
            "its  :  it\n",
            "borders  :  border\n",
            ".  :  .\n",
            "It  :  it\n",
            "conducts  :  conduct\n",
            "humanitarian  :  humanitarian\n",
            "rescue  :  rescu\n",
            "operations  :  oper\n",
            "during  :  dure\n",
            "natural  :  natur\n",
            "calamities  :  calam\n",
            "and  :  and\n",
            "other  :  other\n",
            "disturbances  :  disturb\n",
            ",  :  ,\n",
            "such  :  such\n",
            "as  :  as\n",
            "Operation  :  oper\n",
            "Surya  :  surya\n",
            "Hope  :  hope\n",
            ",  :  ,\n",
            "and  :  and\n",
            "can  :  can\n",
            "also  :  also\n",
            "be  :  be\n",
            "requisitioned  :  requisit\n",
            ".  :  .\n"
          ]
        }
      ]
    },
    {
      "cell_type": "markdown",
      "source": [
        "# **Lemmatization**"
      ],
      "metadata": {
        "id": "qbMeSiyF2D0i"
      }
    },
    {
      "cell_type": "code",
      "source": [
        "# downloading the wordnet package\n",
        "nltk.download('wordnet')\n",
        "\n",
        "#download the Open Multilingual Wordnet 1.4 package\n",
        "nltk.download('omw-1.4')\n",
        "\n",
        "#import WordNetLemmatizer for lemmatization\n",
        "from nltk.stem import WordNetLemmatizer\n",
        "\n",
        "lemmatizer = WordNetLemmatizer()\n",
        "\n",
        "print(\"indian :\", lemmatizer.lemmatize(\"indian\"))\n",
        "print(\"army :\", lemmatizer.lemmatize(\"army\"))\n",
        "\n",
        "# a denotes adjective in \"pos\"\n",
        "print(\"fantastic:\", lemmatizer.lemmatize(\"fantastic\", pos =\"a\"))\n"
      ],
      "metadata": {
        "colab": {
          "base_uri": "https://localhost:8080/"
        },
        "id": "SFbkhOcl2DSK",
        "outputId": "02c0046b-7398-4396-c09c-f8d675412eb3"
      },
      "execution_count": 26,
      "outputs": [
        {
          "output_type": "stream",
          "name": "stdout",
          "text": [
            "indian : indian\n",
            "army : army\n",
            "fantastic: fantastic\n"
          ]
        },
        {
          "output_type": "stream",
          "name": "stderr",
          "text": [
            "[nltk_data] Downloading package wordnet to /root/nltk_data...\n",
            "[nltk_data]   Package wordnet is already up-to-date!\n",
            "[nltk_data] Downloading package omw-1.4 to /root/nltk_data...\n",
            "[nltk_data]   Package omw-1.4 is already up-to-date!\n"
          ]
        }
      ]
    },
    {
      "cell_type": "markdown",
      "source": [
        "## POS Tagging"
      ],
      "metadata": {
        "id": "IgwtzJ0FKg-n"
      }
    },
    {
      "cell_type": "code",
      "source": [
        "#importing nltk\n",
        "import nltk\n",
        "\n",
        "#Downloading stop words from NLTK\n",
        "nltk.download('stopwords')\n",
        "\n",
        "#Downloading averaged perceptron tagger from NLTK this will get pos tags and will work after tokenization process\n",
        "nltk.download('averaged_perceptron_tagger')\n",
        "\n",
        "#importing the stopwords\n",
        "from nltk.corpus import stopwords\n",
        "# importing libraried to tokenize\n",
        "from nltk.tokenize import word_tokenize, sent_tokenize\n",
        "stop_words = set(stopwords.words('english'))\n",
        "\n",
        "\"\"\" for eg my text is given as below\"\"\"\n",
        "#txt = \"\"\"Indian army is a great organization\"\"\"\n",
        "\n",
        "# we will do sent_tokenize as one of instances of PunktSentenceTokenizer from the nltk.tokenize.punkt module and do pos tagging\n",
        "\n",
        "tokenized = sent_tokenize(x.raw())\n",
        "for i in tokenized:\n",
        "\t\n",
        "\t# Word tokenizers is used to find the words and punctuation in a string\n",
        "\twordsList = nltk.word_tokenize(i)\n",
        "\n",
        "\t# removing stop words from wordList\n",
        "\twordsList = [w for w in wordsList if not w in stop_words]\n",
        "\n",
        "\t# Using a Tagger. Which is part-of-speech tagger or POS-tagger.\n",
        "\ttagged = nltk.pos_tag(wordsList)\n",
        "\n",
        "\tprint(tagged)\n"
      ],
      "metadata": {
        "colab": {
          "base_uri": "https://localhost:8080/"
        },
        "id": "76zA6QcaKwk8",
        "outputId": "4b684fcc-065f-43ac-9dc4-25038acc5736"
      },
      "execution_count": 27,
      "outputs": [
        {
          "output_type": "stream",
          "name": "stdout",
          "text": [
            "[('Indian', 'JJ'), ('soldiers', 'NNS'), ('fought', 'VBD'), ('alongside', 'RB'), ('Allies.whose', 'NNP'), ('mission', 'NN'), ('internal', 'JJ'), ('security', 'NN'), ('defence', 'NN'), ('possible', 'JJ'), ('Soviet', 'JJ'), ('threat', 'NN'), ('Afghanistan', 'NNP'), ('war', 'NN'), ('broke', 'VBD'), (',', ','), ('made', 'VBD'), ('called', 'VBN'), ('Free', 'NNP'), ('India', 'NNP'), ('Legion', 'NNP'), ('.', '.')]\n",
            "[('Indian', 'JJ'), ('armed', 'VBD'), ('forces', 'NNS'), ('ended', 'VBD'), ('rule', 'NN'), ('Nizam', 'NNP'), ('Hyderabad', 'NNP'), ('led', 'VBD'), ('incorporation', 'NN'), ('princely', 'RB'), ('state', 'NN'), ('Hyderabad', 'NNP'), ('Southern', 'NNP'), ('India', 'NNP'), (',', ','), ('Indian', 'NNP'), ('Union', 'NNP'), ('.', '.')]\n",
            "[('Combined', 'JJ'), ('operation', 'NN'), ('Naxalites', 'NNP'), ('.', '.')]\n",
            "[('To', 'TO'), ('control', 'VB'), ('landscape', 'NN'), ('Punjab', 'NNP'), ('night', 'NN'), ('.', '.')]\n",
            "[('The', 'DT'), ('Indian', 'JJ'), ('Army', 'NNP'), ('land-based', 'JJ'), ('branch', 'NN'), ('largest', 'JJS'), ('component', 'NN'), ('Indian', 'NN'), ('Armed', 'NNP'), ('Forces', 'NNS'), ('.', '.')]\n",
            "[('Supreme', 'NNP'), ('Commander', 'NNP'), ('Indian', 'JJ'), ('Army', 'NNP'), (',', ','), ('professional', 'JJ'), ('head', 'NN'), ('Chief', 'NNP'), ('Army', 'NNP'), ('Staff', 'NNP'), ('(', '('), ('COAS', 'NNP'), (')', ')'), (',', ','), ('five-star', 'JJ'), ('rank', 'NN'), (',', ','), ('ceremonial', 'JJ'), ('position', 'NN'), ('great', 'JJ'), ('honour', 'NN'), ('.', '.')]\n",
            "[('The', 'DT'), ('primary', 'JJ'), ('mission', 'NN'), ('national', 'JJ'), ('security', 'NN'), ('national', 'JJ'), ('unity', 'NN'), (',', ','), ('defend', 'VBP'), ('nation', 'NN'), ('external', 'JJ'), ('aggression', 'NN'), ('internal', 'JJ'), ('threats', 'NNS'), ('maintain', 'VBP'), ('peace', 'JJ'), ('security', 'NN'), ('within', 'IN'), ('borders', 'NNS'), ('.', '.')]\n",
            "[('It', 'PRP'), ('conducts', 'VBZ'), ('humanitarian', 'JJ'), ('rescue', 'NN'), ('operations', 'NNS'), ('natural', 'JJ'), ('calamities', 'NNS'), ('disturbances', 'NNS'), (',', ','), ('Operation', 'NNP'), ('Surya', 'NNP'), ('Hope', 'NNP'), (',', ','), ('also', 'RB'), ('requisitioned', 'VBD'), ('.', '.')]\n"
          ]
        },
        {
          "output_type": "stream",
          "name": "stderr",
          "text": [
            "[nltk_data] Downloading package stopwords to /root/nltk_data...\n",
            "[nltk_data]   Package stopwords is already up-to-date!\n",
            "[nltk_data] Downloading package averaged_perceptron_tagger to\n",
            "[nltk_data]     /root/nltk_data...\n",
            "[nltk_data]   Package averaged_perceptron_tagger is already up-to-\n",
            "[nltk_data]       date!\n"
          ]
        }
      ]
    },
    {
      "cell_type": "markdown",
      "source": [
        ""
      ],
      "metadata": {
        "id": "TaA90ouS8UW9"
      }
    }
  ]
}